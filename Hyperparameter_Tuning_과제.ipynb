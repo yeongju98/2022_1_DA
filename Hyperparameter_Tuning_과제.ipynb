{
  "nbformat": 4,
  "nbformat_minor": 0,
  "metadata": {
    "colab": {
      "name": "Hyperparameter Tuning 과제.ipynb",
      "provenance": [],
      "collapsed_sections": [],
      "include_colab_link": true
    },
    "kernelspec": {
      "display_name": "Python 3",
      "language": "python",
      "name": "python3"
    },
    "language_info": {
      "codemirror_mode": {
        "name": "ipython",
        "version": 3
      },
      "file_extension": ".py",
      "mimetype": "text/x-python",
      "name": "python",
      "nbconvert_exporter": "python",
      "pygments_lexer": "ipython3",
      "version": "3.9.6"
    },
    "toc": {
      "base_numbering": 1,
      "nav_menu": {},
      "number_sections": false,
      "sideBar": true,
      "skip_h1_title": false,
      "title_cell": "Table of Contents",
      "title_sidebar": "Contents",
      "toc_cell": false,
      "toc_position": {
        "height": "calc(100% - 180px)",
        "left": "10px",
        "top": "150px",
        "width": "165px"
      },
      "toc_section_display": true,
      "toc_window_display": true
    },
    "varInspector": {
      "cols": {
        "lenName": 16,
        "lenType": 16,
        "lenVar": 40
      },
      "kernels_config": {
        "python": {
          "delete_cmd_postfix": "",
          "delete_cmd_prefix": "del ",
          "library": "var_list.py",
          "varRefreshCmd": "print(var_dic_list())"
        },
        "r": {
          "delete_cmd_postfix": ") ",
          "delete_cmd_prefix": "rm(",
          "library": "var_list.r",
          "varRefreshCmd": "cat(var_dic_list()) "
        }
      },
      "types_to_exclude": [
        "module",
        "function",
        "builtin_function_or_method",
        "instance",
        "_Feature"
      ],
      "window_display": false
    }
  },
  "cells": [
    {
      "cell_type": "markdown",
      "metadata": {
        "id": "view-in-github",
        "colab_type": "text"
      },
      "source": [
        "<a href=\"https://colab.research.google.com/github/yeongju98/2022_1_DA/blob/main/Hyperparameter_Tuning_%EA%B3%BC%EC%A0%9C.ipynb\" target=\"_parent\"><img src=\"https://colab.research.google.com/assets/colab-badge.svg\" alt=\"Open In Colab\"/></a>"
      ]
    },
    {
      "cell_type": "markdown",
      "metadata": {
        "id": "gLQCzvw0JYlf"
      },
      "source": [
        "# Hyperparameter Tuning 과제\n",
        "\n",
        "- Manual Search\n",
        "- Random Search (Grid Search 참고)\n",
        "- Bayesian Optimization using HyperOpt\n",
        "<br>연습해보기!"
      ]
    },
    {
      "cell_type": "code",
      "metadata": {
        "ExecuteTime": {
          "end_time": "2021-09-24T20:46:43.988763Z",
          "start_time": "2021-09-24T20:46:43.952056Z"
        },
        "id": "1sDnWUqtJYlg"
      },
      "source": [
        "from sklearn.model_selection import train_test_split\n",
        "from sklearn.linear_model import LogisticRegression\n",
        "from sklearn.metrics import confusion_matrix, accuracy_score, classification_report\n",
        "from sklearn.datasets import load_iris\n",
        "import warnings\n",
        "warnings.filterwarnings('ignore')\n",
        "import time\n",
        "from functools import partial"
      ],
      "execution_count": 1,
      "outputs": []
    },
    {
      "cell_type": "code",
      "metadata": {
        "ExecuteTime": {
          "end_time": "2021-09-24T20:46:44.961821Z",
          "start_time": "2021-09-24T20:46:44.943070Z"
        },
        "id": "rA3eO5blJYlr"
      },
      "source": [
        "iris = load_iris()\n",
        "\n",
        "X = iris.data\n",
        "y = iris.target"
      ],
      "execution_count": 2,
      "outputs": []
    },
    {
      "cell_type": "code",
      "metadata": {
        "ExecuteTime": {
          "end_time": "2021-09-24T20:58:53.910634Z",
          "start_time": "2021-09-24T20:58:53.859317Z"
        },
        "id": "R6305NrasoYk"
      },
      "source": [
        "X_train, X_test, y_train, y_test = train_test_split(X, y, random_state=23)"
      ],
      "execution_count": 3,
      "outputs": []
    },
    {
      "cell_type": "markdown",
      "metadata": {
        "id": "gyhhqrxrsoYl"
      },
      "source": [
        "## 1. Manual Search\n",
        "사이킷런 Logistic Regresstion https://scikit-learn.org/stable/modules/generated/sklearn.linear_model.LogisticRegression.html?highlight=logistic%20regression#sklearn.linear_model.LogisticRegression"
      ]
    },
    {
      "cell_type": "code",
      "metadata": {
        "ExecuteTime": {
          "end_time": "2021-09-24T21:00:41.903089Z",
          "start_time": "2021-09-24T21:00:41.725376Z"
        },
        "scrolled": false,
        "id": "h_Exh_OQsoYl",
        "colab": {
          "base_uri": "https://localhost:8080/"
        },
        "outputId": "0ab58bfd-d804-4bfd-e3b1-ac3c8e1791de"
      },
      "source": [
        "'''\n",
        "maunal 1 \n",
        "'''\n",
        "\n",
        "manual1 = LogisticRegression( random_state=100)\n",
        "\n",
        "manual1.fit(X_train,y_train)\n",
        "y_pred = manual1.predict(X_train)\n",
        "\n",
        "# 정확도를 계산해주세요\n",
        "print('정확도: {}'.format(manual1.score(X_train, y_train)))\n"
      ],
      "execution_count": 4,
      "outputs": [
        {
          "output_type": "stream",
          "name": "stdout",
          "text": [
            "정확도: 0.9642857142857143\n"
          ]
        }
      ]
    },
    {
      "cell_type": "code",
      "source": [
        "'''\n",
        "maunal 2 \n",
        "'''\n",
        "# 다양한 하이퍼파라미터 값을 사용하여 또 다른 manual search를 해보세요\n",
        "# manual1 에 비해 정확도가 더 높아지면 더 좋습니다 !\n",
        "\n",
        "manual2 = LogisticRegression(solver='saga')\n",
        "\n",
        "manual2.fit(X_train,y_train)\n",
        "y_pred = manual2.predict(X_train)\n",
        "\n",
        "# 정확도를 계산해주세요\n",
        "print('정확도: {}'.format(manual2.score(X_train, y_train)))\n"
      ],
      "metadata": {
        "id": "i0RC67jrOQ0j",
        "colab": {
          "base_uri": "https://localhost:8080/"
        },
        "outputId": "76c24e2c-a492-4d51-a0c9-8b0e7646ba19"
      },
      "execution_count": 5,
      "outputs": [
        {
          "output_type": "stream",
          "name": "stdout",
          "text": [
            "정확도: 0.9821428571428571\n"
          ]
        }
      ]
    },
    {
      "cell_type": "markdown",
      "metadata": {
        "id": "FJuP0s1VJYl2"
      },
      "source": [
        "## 2. Grid Search"
      ]
    },
    {
      "cell_type": "code",
      "metadata": {
        "ExecuteTime": {
          "end_time": "2021-09-24T20:46:52.466208Z",
          "start_time": "2021-09-24T20:46:48.233455Z"
        },
        "id": "-vm5xBoDJYl3",
        "colab": {
          "base_uri": "https://localhost:8080/"
        },
        "outputId": "2717f012-943c-4bf5-c99c-363a23ceb575"
      },
      "source": [
        "from sklearn.model_selection import GridSearchCV\n",
        "\n",
        "# 파라미터 후보 설정\n",
        "param_grid = {'C': [0.001, 0.01, 0.1, 1, 10, 100],\n",
        "              'max_iter' : [100, 500, 1000, 1500, 2000]}\n",
        "\n",
        "# 그리드 서치 호출\n",
        "grid_search = GridSearchCV(LogisticRegression(), param_grid, cv=5, return_train_score=True)   \n",
        "\n",
        "# 데이터 분할\n",
        "X_train, X_test, y_train, y_test = train_test_split(X, y, random_state=23)\n",
        "\n",
        "start = time.time()\n",
        "# 모델 적합\n",
        "grid_search.fit(X_train, y_train)\n",
        "\n",
        "# 모델 평가\n",
        "print(f\"test set score : {grid_search.score(X_test, y_test)}\")\n",
        "\n",
        "print(f\"best parameters: {grid_search.best_params_}\")\n",
        "print(f\"best CV score: {grid_search.best_score_}\")\n",
        "\n",
        "# 소요 시간 측정\n",
        "print(\"time :\", time.time() - start)"
      ],
      "execution_count": 6,
      "outputs": [
        {
          "output_type": "stream",
          "name": "stdout",
          "text": [
            "test set score : 1.0\n",
            "best parameters: {'C': 1, 'max_iter': 100}\n",
            "best CV score: 0.9553359683794467\n",
            "time : 3.915372848510742\n"
          ]
        }
      ]
    },
    {
      "cell_type": "markdown",
      "metadata": {
        "id": "qDzu1DN5JYl-"
      },
      "source": [
        "## 3. Random Search\n",
        "grid search 코드와 매우 유사하니 참고해서 빈칸 채워주세요 !"
      ]
    },
    {
      "cell_type": "code",
      "metadata": {
        "ExecuteTime": {
          "end_time": "2021-09-24T20:42:41.866511Z",
          "start_time": "2021-09-24T20:42:41.835657Z"
        },
        "id": "iEpwD9lsJYl_",
        "colab": {
          "base_uri": "https://localhost:8080/"
        },
        "outputId": "cdaf3bdf-3bd9-4501-923a-a68014c090c5"
      },
      "source": [
        "from sklearn.model_selection import RandomizedSearchCV\n",
        "from sklearn.model_selection import cross_val_score\n",
        "\n",
        "# 파라미터 후보 설정\n",
        "random = dict()\n",
        "random['solver'] = ['newton-cg', 'lbfgs', 'liblinear']\n",
        "random['penalty'] = ['none', 'l1', 'l2', 'elasticnet']\n",
        "\n",
        "\n",
        "# 그리드 서치 호출\n",
        "model = LogisticRegression()\n",
        "random_search = RandomizedSearchCV(estimator = model,param_distributions = random, n_iter = 10, \n",
        "                               cv = 4, verbose= 1, random_state= 101, n_jobs = -1)\n",
        "\n",
        "# 데이터 분할\n",
        "X_train, X_test, y_train, y_test = train_test_split(X, y, random_state=23)\n",
        "\n",
        "# 모델 적합\n",
        "random_search.fit(X_train, y_train)\n",
        "\n",
        "# 모델 평가\n",
        "print(f\"test set score : {random_search.score(X_test, y_test)}\")\n",
        "\n",
        "print(f\"best parameters: {random_search.best_params_}\")\n",
        "print(f\"best CV score: {random_search.best_score_}\")\n",
        "\n",
        "# 소요 시간 측정\n",
        "print(\"time :\", time.time() - start)"
      ],
      "execution_count": 7,
      "outputs": [
        {
          "output_type": "stream",
          "name": "stdout",
          "text": [
            "Fitting 4 folds for each of 10 candidates, totalling 40 fits\n",
            "test set score : 1.0\n",
            "best parameters: {'solver': 'lbfgs', 'penalty': 'l2'}\n",
            "best CV score: 0.9553571428571429\n",
            "time : 8.14478087425232\n"
          ]
        }
      ]
    },
    {
      "cell_type": "markdown",
      "metadata": {
        "id": "Xdm1vVy2JYmN"
      },
      "source": [
        "## 4. HyperOpt"
      ]
    },
    {
      "cell_type": "code",
      "metadata": {
        "ExecuteTime": {
          "end_time": "2021-09-24T17:08:35.707056Z",
          "start_time": "2021-09-24T17:08:29.489528Z"
        },
        "id": "Kng8KkvUsoYn",
        "colab": {
          "base_uri": "https://localhost:8080/"
        },
        "outputId": "6ca05cfb-75e2-4399-bf09-3783ad48ed1e"
      },
      "source": [
        "!pip install hyperopt"
      ],
      "execution_count": 8,
      "outputs": [
        {
          "output_type": "stream",
          "name": "stdout",
          "text": [
            "Requirement already satisfied: hyperopt in /usr/local/lib/python3.7/dist-packages (0.1.2)\n",
            "Requirement already satisfied: tqdm in /usr/local/lib/python3.7/dist-packages (from hyperopt) (4.63.0)\n",
            "Requirement already satisfied: six in /usr/local/lib/python3.7/dist-packages (from hyperopt) (1.15.0)\n",
            "Requirement already satisfied: future in /usr/local/lib/python3.7/dist-packages (from hyperopt) (0.16.0)\n",
            "Requirement already satisfied: pymongo in /usr/local/lib/python3.7/dist-packages (from hyperopt) (4.0.2)\n",
            "Requirement already satisfied: numpy in /usr/local/lib/python3.7/dist-packages (from hyperopt) (1.21.5)\n",
            "Requirement already satisfied: networkx in /usr/local/lib/python3.7/dist-packages (from hyperopt) (2.6.3)\n",
            "Requirement already satisfied: scipy in /usr/local/lib/python3.7/dist-packages (from hyperopt) (1.4.1)\n"
          ]
        }
      ]
    },
    {
      "cell_type": "code",
      "source": [
        "import hyperopt"
      ],
      "metadata": {
        "id": "ThPKvmD8WRkx"
      },
      "execution_count": 57,
      "outputs": []
    },
    {
      "cell_type": "code",
      "source": [
        "import numpy as np\n",
        "from hyperopt import hp, fmin, tpe, STATUS_OK,Trials\n",
        "from sklearn.model_selection import cross_val_score"
      ],
      "metadata": {
        "id": "KjWb_ZOkXBAO"
      },
      "execution_count": 29,
      "outputs": []
    },
    {
      "cell_type": "code",
      "metadata": {
        "ExecuteTime": {
          "end_time": "2021-09-24T21:31:05.279023Z",
          "start_time": "2021-09-24T21:31:03.139368Z"
        },
        "scrolled": true,
        "id": "buTAAPeisoYo"
      },
      "source": [
        "\n",
        "\n",
        "space = {\n",
        "    'penalty' : hp.choice('penalty', ['l2', 'none']), \n",
        "    'fit_intercept' : hp.choice('fit_intercept', [True, False]),\n",
        "    'max_iter' : hp.choice('max_iter',[100,1000])\n",
        "}\n",
        "\n",
        "def objective(space):\n",
        "    model = LogisticRegression(penalty=space['penalty'], fit_intercept = space['fit_intercept'], \n",
        "                               max_iter=space['max_iter'])\n",
        "    accuracy = cross_val_score(model, X_train, y_train, cv = 4).mean()\n",
        "    return {'loss': -accuracy, 'status': STATUS_OK }\n",
        "\n",
        "\n",
        "\n"
      ],
      "execution_count": 75,
      "outputs": []
    },
    {
      "cell_type": "code",
      "source": [
        "    \n",
        "trials = Trials()\n",
        "best = fmin(fn= objective,\n",
        "            space= space,\n",
        "            algo= tpe.suggest,\n",
        "            max_evals = 20, \n",
        "            trials= trials)\n",
        "\n",
        "print(best)\n"
      ],
      "metadata": {
        "colab": {
          "base_uri": "https://localhost:8080/"
        },
        "id": "pT62AdcwFAxS",
        "outputId": "e22a651b-2250-4baf-970b-7ebb217a05d3"
      },
      "execution_count": 76,
      "outputs": [
        {
          "output_type": "stream",
          "name": "stdout",
          "text": [
            "100%|██████████| 20/20 [00:02<00:00,  8.81it/s, best loss: -0.9553571428571429]\n",
            "{'fit_intercept': 1, 'max_iter': 0, 'penalty': 1}\n"
          ]
        }
      ]
    },
    {
      "cell_type": "code",
      "metadata": {
        "ExecuteTime": {
          "end_time": "2021-09-24T21:36:32.724645Z",
          "start_time": "2021-09-24T21:36:32.590849Z"
        },
        "id": "NCd8oFwXsoYo",
        "colab": {
          "base_uri": "https://localhost:8080/"
        },
        "outputId": "1f96bfce-f344-4a23-f340-0298647e7d6f"
      },
      "source": [
        "from sklearn.metrics import classification_report,confusion_matrix\n",
        "from sklearn.metrics import accuracy_score\n",
        "\n",
        "pen = {0: 'l1', 1: 'l2', 2: 'elasticnet', 3: None}\n",
        "incpt = {0: True, 1: False}\n",
        "\n",
        "trained = LogisticRegression(penalty = pen[best['penalty']],\n",
        "                             fit_intercept = incpt[best['fit_intercept']],\n",
        "                             max_iter = best['max_iter']).fit(X_train,y_train)\n",
        "\n",
        "# 정확도 도출 부분까지 코드 짜시면 됩니다!\n",
        "obj_pf = trained.predict(X_test)\n",
        "print(confusion_matrix(y_test,obj_pf))\n",
        "print(classification_report(y_test,obj_pf))\n",
        "obj_acc = accuracy_score(y_test,obj_pf)\n",
        "\n"
      ],
      "execution_count": 77,
      "outputs": [
        {
          "output_type": "stream",
          "name": "stdout",
          "text": [
            "[[ 0  0 16]\n",
            " [ 0  0 11]\n",
            " [ 0  0 11]]\n",
            "              precision    recall  f1-score   support\n",
            "\n",
            "           0       0.00      0.00      0.00        16\n",
            "           1       0.00      0.00      0.00        11\n",
            "           2       0.29      1.00      0.45        11\n",
            "\n",
            "    accuracy                           0.29        38\n",
            "   macro avg       0.10      0.33      0.15        38\n",
            "weighted avg       0.08      0.29      0.13        38\n",
            "\n"
          ]
        }
      ]
    },
    {
      "cell_type": "markdown",
      "metadata": {
        "id": "wEcAD9_ZsoYp"
      },
      "source": [
        "## 선택) Bayesian Optimization 사용\n"
      ]
    },
    {
      "cell_type": "code",
      "metadata": {
        "id": "LMx-5StQsoYp"
      },
      "source": [
        "!pip install bayesian-optimization"
      ],
      "execution_count": null,
      "outputs": []
    },
    {
      "cell_type": "code",
      "metadata": {
        "id": "qTLHHCvFsoYp"
      },
      "source": [
        "from bayes_opt import BayesianOptimization"
      ],
      "execution_count": null,
      "outputs": []
    }
  ]
}